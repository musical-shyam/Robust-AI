{
  "nbformat": 4,
  "nbformat_minor": 0,
  "metadata": {
    "colab": {
      "provenance": [],
      "authorship_tag": "ABX9TyOuqidRuQBnX1vW6zxbLN8U",
      "include_colab_link": true
    },
    "kernelspec": {
      "name": "python3",
      "display_name": "Python 3"
    },
    "language_info": {
      "name": "python"
    }
  },
  "cells": [
    {
      "cell_type": "markdown",
      "metadata": {
        "id": "view-in-github",
        "colab_type": "text"
      },
      "source": [
        "<a href=\"https://colab.research.google.com/github/musical-shyam/Robust-AI/blob/main/ResNet_Defense.ipynb\" target=\"_parent\"><img src=\"https://colab.research.google.com/assets/colab-badge.svg\" alt=\"Open In Colab\"/></a>"
      ]
    },
    {
      "cell_type": "markdown",
      "source": [
        "# **Pre-Task: Training a New Clean Model to prevent Gradient Obfuscation**\n",
        "\n"
      ],
      "metadata": {
        "id": "pVwQp-g5Mnum"
      }
    },
    {
      "cell_type": "markdown",
      "source": [
        "## **Importing Required LIbraries**"
      ],
      "metadata": {
        "id": "ixuao2jNrK1R"
      }
    },
    {
      "cell_type": "code",
      "execution_count": null,
      "metadata": {
        "id": "SHTXvjy6Pscv"
      },
      "outputs": [],
      "source": [
        "import torch\n",
        "import torchvision\n",
        "import torchvision.transforms as transforms\n",
        "import matplotlib.pyplot as plt\n",
        "import numpy as np\n",
        "import torch.nn as nn\n",
        "import torch.nn.functional as F\n",
        "import torch.optim as optim\n",
        "import PIL.Image as Image\n",
        "import random\n",
        "import time # Using for checking training time\n",
        "\n",
        "#Refer to: https://pytorch.org/tutorials/beginner/blitz/cifar10_tutorial.html"
      ]
    },
    {
      "cell_type": "markdown",
      "source": [
        "## **Mounting to Google Drive**"
      ],
      "metadata": {
        "id": "LAhaHVFCrTWA"
      }
    },
    {
      "cell_type": "code",
      "source": [
        "from google.colab import drive\n",
        "drive.mount('/content/drive')"
      ],
      "metadata": {
        "id": "_hEorjQYrPoB",
        "colab": {
          "base_uri": "https://localhost:8080/"
        },
        "outputId": "c42d56fa-2779-48e1-b6a0-801310d2eb67"
      },
      "execution_count": null,
      "outputs": [
        {
          "output_type": "stream",
          "name": "stdout",
          "text": [
            "Mounted at /content/drive\n"
          ]
        }
      ]
    },
    {
      "cell_type": "markdown",
      "source": [
        "## **Switching to GPU (if available)**"
      ],
      "metadata": {
        "id": "82R6XUrvjL4i"
      }
    },
    {
      "cell_type": "code",
      "source": [
        "device = torch.device(\"cuda:0\" if torch.cuda.is_available() else \"cpu\")\n",
        "print(device)"
      ],
      "metadata": {
        "colab": {
          "base_uri": "https://localhost:8080/"
        },
        "id": "3IoVZlHPitFb",
        "outputId": "b05ec18d-23d9-4ba0-eb9b-ac6b08067dc4"
      },
      "execution_count": null,
      "outputs": [
        {
          "output_type": "stream",
          "name": "stdout",
          "text": [
            "cpu\n"
          ]
        }
      ]
    },
    {
      "cell_type": "markdown",
      "source": [
        "## **Data Loading and Pre-Processing**"
      ],
      "metadata": {
        "id": "MDdECIDzrWpB"
      }
    },
    {
      "cell_type": "code",
      "source": [
        "transform = transforms.Compose(\n",
        "    [transforms.ToTensor(),])\n",
        "\n",
        "# Changed the Batch Size to 128 for Best Results\n",
        "batch_size = 128\n",
        "\n",
        "trainset = torchvision.datasets.CIFAR10(root='./data', train=True,\n",
        "                                        download=True, transform=transform)\n",
        "trainloader = torch.utils.data.DataLoader(trainset, batch_size=batch_size,\n",
        "                                          shuffle=True, num_workers=2)\n",
        "\n",
        "testset = torchvision.datasets.CIFAR10(root='./data', train=False,\n",
        "                                       download=True, transform=transform)\n",
        "testloader = torch.utils.data.DataLoader(testset, batch_size=batch_size,\n",
        "                                         shuffle=False, num_workers=2)\n",
        "\n",
        "classes = ('plane', 'car', 'bird', 'cat',\n",
        "           'deer', 'dog', 'frog', 'horse', 'ship', 'truck')"
      ],
      "metadata": {
        "colab": {
          "base_uri": "https://localhost:8080/"
        },
        "id": "mchvYThhQIdj",
        "outputId": "cc8d41d1-aaea-4d55-eabe-9bd11c7d5747"
      },
      "execution_count": null,
      "outputs": [
        {
          "output_type": "stream",
          "name": "stderr",
          "text": [
            "100%|██████████| 170M/170M [00:02<00:00, 69.7MB/s]\n"
          ]
        }
      ]
    },
    {
      "cell_type": "markdown",
      "source": [
        "## **Data Visualization (Before Augmentation)**"
      ],
      "metadata": {
        "id": "-wDp-GKfa3zW"
      }
    },
    {
      "cell_type": "code",
      "source": [
        "def imshow_grid(img, labels):\n",
        "    \"\"\"\n",
        "    Displays a grid of up to 16 images from a batch.\n",
        "    (These are still unnormalized: just raw 0-1 from .ToTensor().)\n",
        "    \"\"\"\n",
        "    img = img[:16]\n",
        "    labels = labels[:16]\n",
        "    npimg = torchvision.utils.make_grid(img, nrow=4).numpy()\n",
        "    plt.figure(figsize=(6,6))\n",
        "    plt.imshow(np.transpose(npimg, (1, 2, 0)))\n",
        "    plt.title(\"Raw images from DataLoader\")\n",
        "    plt.axis('off')\n",
        "    plt.show()\n",
        "\n",
        "dataiter = iter(trainloader)\n",
        "images, labels = next(dataiter)\n",
        "imshow_grid(images, labels)\n",
        "print(\"First 16 labels:\", [classes[l.item()] for l in labels[:16]])"
      ],
      "metadata": {
        "colab": {
          "base_uri": "https://localhost:8080/",
          "height": 538
        },
        "id": "7JAG51TVa9Ps",
        "outputId": "983cd090-3cc7-49e4-ca40-9671d541a56c"
      },
      "execution_count": null,
      "outputs": [
        {
          "output_type": "display_data",
          "data": {
            "text/plain": [
              "<Figure size 600x600 with 1 Axes>"
            ],
            "image/png": "[encoded data removed]"
          },
          "metadata": {}
        },
        {
          "output_type": "stream",
          "name": "stdout",
          "text": [
            "First 16 labels: ['horse', 'dog', 'frog', 'plane', 'cat', 'horse', 'plane', 'deer', 'cat', 'deer', 'plane', 'horse', 'frog', 'cat', 'frog', 'plane']\n"
          ]
        }
      ]
    },
    {
      "cell_type": "markdown",
      "source": [
        "## **Defining the ResNet-20 Architecture**"
      ],
      "metadata": {
        "id": "UDXiV9BBsHNA"
      }
    },
    {
      "cell_type": "code",
      "source": [
        "class BasicBlock(nn.Module):\n",
        "    expansion = 1\n",
        "\n",
        "    def __init__(self, in_planes, planes, stride=1):\n",
        "        super(BasicBlock, self).__init__()\n",
        "        self.conv1 = nn.Conv2d(in_planes, planes, kernel_size=3, stride=stride, padding=1, bias=False)\n",
        "        self.bn1 = nn.BatchNorm2d(planes)\n",
        "        self.conv2 = nn.Conv2d(planes, planes, kernel_size=3, stride=1, padding=1, bias=False)\n",
        "        self.bn2 = nn.BatchNorm2d(planes)\n",
        "\n",
        "        self.shortcut = nn.Sequential()\n",
        "        if stride != 1 or in_planes != self.expansion * planes:\n",
        "            self.shortcut = nn.Sequential(\n",
        "                nn.Conv2d(in_planes, self.expansion * planes, kernel_size=1, stride=stride, bias=False),\n",
        "                nn.BatchNorm2d(self.expansion * planes)\n",
        "            )\n",
        "\n",
        "    def forward(self, x):\n",
        "        out = F.relu(self.bn1(self.conv1(x)))\n",
        "        out = self.bn2(self.conv2(out))\n",
        "        out += self.shortcut(x)\n",
        "        out = F.relu(out)\n",
        "        return out\n",
        "\n",
        "class ResNet(nn.Module):\n",
        "    def __init__(self, block, num_blocks, num_classes=10):\n",
        "        super(ResNet, self).__init__()\n",
        "        self.in_planes = 16\n",
        "\n",
        "        self.conv1 = nn.Conv2d(3, 16, kernel_size=3, stride=1, padding=1, bias=False)\n",
        "        self.bn1 = nn.BatchNorm2d(16)\n",
        "        self.layer1 = self._make_layer(block, 16, num_blocks[0], stride=1)\n",
        "        self.layer2 = self._make_layer(block, 32, num_blocks[1], stride=2)\n",
        "        self.layer3 = self._make_layer(block, 64, num_blocks[2], stride=2)\n",
        "        self.linear = nn.Linear(64, num_classes)\n",
        "\n",
        "    def _make_layer(self, block, planes, num_blocks, stride):\n",
        "        strides = [stride] + [1] * (num_blocks - 1)\n",
        "        layers = []\n",
        "        for stride in strides:\n",
        "            layers.append(block(self.in_planes, planes, stride))\n",
        "            self.in_planes = planes * block.expansion\n",
        "        return nn.Sequential(*layers)\n",
        "\n",
        "    def forward(self, x):\n",
        "        if self.training:\n",
        "            # Padding for random crop\n",
        "            x = F.pad(x, (4,4,4,4), mode='reflect')\n",
        "            _, _, h, w = x.size()\n",
        "\n",
        "            # Random Crop\n",
        "            top = random.randint(0, h - 32)\n",
        "            left = random.randint(0, w - 32)\n",
        "            x = x[:, :, top:top + 32, left:left + 32]\n",
        "\n",
        "            # Random Horizontal Flip\n",
        "            if random.random() > 0.5:\n",
        "                x = torch.flip(x, dims=[3])\n",
        "\n",
        "        # Adding Normalization\n",
        "        x = (x - 0.5) / 0.5\n",
        "\n",
        "        out = F.relu(self.bn1(self.conv1(x)))\n",
        "        out = self.layer1(out)\n",
        "        out = self.layer2(out)\n",
        "        out = self.layer3(out)\n",
        "        out = F.avg_pool2d(out, out.size()[3])\n",
        "        out = out.view(out.size(0), -1)\n",
        "        out = self.linear(out)\n",
        "        return out\n",
        "\n",
        "def ResNet20():\n",
        "    return ResNet(BasicBlock, [3, 3, 3])\n",
        "\n",
        "\n",
        "net = ResNet20()\n",
        "net = net.to(device)"
      ],
      "metadata": {
        "id": "eLWntuZ8QGZr"
      },
      "execution_count": null,
      "outputs": []
    },
    {
      "cell_type": "markdown",
      "source": [
        "## **Setting up the Hyperparameters**"
      ],
      "metadata": {
        "id": "KftcDoJqsRlY"
      }
    },
    {
      "cell_type": "code",
      "source": [
        "criterion = nn.CrossEntropyLoss()\n",
        "# ctiterion = criterion.cuda()\n",
        "optimizer = optim.SGD(net.parameters(), lr=0.1, momentum=0.9, weight_decay=2e-4 )\n",
        "scheduler = optim.lr_scheduler.CosineAnnealingLR(optimizer, T_max=200)\n",
        "epochs= 200"
      ],
      "metadata": {
        "id": "EhLIZstLdfxk"
      },
      "execution_count": null,
      "outputs": []
    },
    {
      "cell_type": "markdown",
      "source": [
        "## **Training the Model**"
      ],
      "metadata": {
        "id": "lFe8SZL9sYdR"
      }
    },
    {
      "cell_type": "code",
      "source": [
        "start = time.time()\n",
        "\n",
        "for epoch in range(epochs):  # loop over the dataset multiple times\n",
        "    net.train()\n",
        "    running_loss = 0.0\n",
        "    for i, data in enumerate(trainloader, 0):\n",
        "      # get the inputs; data is a list of [inputs, labels]\n",
        "      inputs, labels = data\n",
        "      inputs = inputs.to(device)\n",
        "      labels = labels.to(device)\n",
        "\n",
        "      # zero the parameter gradients\n",
        "      optimizer.zero_grad()\n",
        "\n",
        "      # forward + backward + optimize\n",
        "      outputs = net(inputs)\n",
        "      loss = criterion(outputs, labels)\n",
        "      loss.backward()\n",
        "      optimizer.step()\n",
        "\n",
        "      # store statistics\n",
        "      running_loss += loss.item()\n",
        "\n",
        "\n",
        "    # printing Loss\n",
        "    print(f\"[Epoch {epoch+1}] Loss: {running_loss / len(trainloader):.4f}\")\n",
        "\n",
        "    # set the learning rate scheduler\n",
        "    scheduler.step()\n",
        "\n",
        "print('Finished Training')\n",
        "total_time = time.time() - start\n",
        "print(f\"Total Training Time: {total_time:.2f} seconds ({total_time / 60:.2f} minutes)\")"
      ],
      "metadata": {
        "colab": {
          "base_uri": "https://localhost:8080/"
        },
        "id": "xHVx_grOjdoK",
        "outputId": "b4c21e65-8fb9-442f-9a72-54db8c0f964f"
      },
      "execution_count": null,
      "outputs": [
        {
          "output_type": "stream",
          "name": "stdout",
          "text": [
            "[Epoch 1] Loss: 1.6596\n",
            "[Epoch 2] Loss: 1.1937\n",
            "[Epoch 3] Loss: 0.9371\n",
            "[Epoch 4] Loss: 0.7854\n",
            "[Epoch 5] Loss: 0.7014\n",
            "[Epoch 6] Loss: 0.6420\n",
            "[Epoch 7] Loss: 0.5994\n",
            "[Epoch 8] Loss: 0.5646\n",
            "[Epoch 9] Loss: 0.5411\n",
            "[Epoch 10] Loss: 0.5241\n",
            "[Epoch 11] Loss: 0.5044\n",
            "[Epoch 12] Loss: 0.4885\n",
            "[Epoch 13] Loss: 0.4725\n",
            "[Epoch 14] Loss: 0.4601\n",
            "[Epoch 15] Loss: 0.4455\n",
            "[Epoch 16] Loss: 0.4488\n",
            "[Epoch 17] Loss: 0.4382\n",
            "[Epoch 18] Loss: 0.4256\n",
            "[Epoch 19] Loss: 0.4215\n",
            "[Epoch 20] Loss: 0.4108\n",
            "[Epoch 21] Loss: 0.4039\n",
            "[Epoch 22] Loss: 0.3978\n",
            "[Epoch 23] Loss: 0.3954\n",
            "[Epoch 24] Loss: 0.3830\n",
            "[Epoch 25] Loss: 0.3847\n",
            "[Epoch 26] Loss: 0.3764\n",
            "[Epoch 27] Loss: 0.3766\n",
            "[Epoch 28] Loss: 0.3728\n",
            "[Epoch 29] Loss: 0.3654\n",
            "[Epoch 30] Loss: 0.3610\n",
            "[Epoch 31] Loss: 0.3600\n",
            "[Epoch 32] Loss: 0.3578\n",
            "[Epoch 33] Loss: 0.3459\n",
            "[Epoch 34] Loss: 0.3482\n",
            "[Epoch 35] Loss: 0.3446\n",
            "[Epoch 36] Loss: 0.3390\n",
            "[Epoch 37] Loss: 0.3410\n",
            "[Epoch 38] Loss: 0.3439\n",
            "[Epoch 39] Loss: 0.3344\n",
            "[Epoch 40] Loss: 0.3366\n",
            "[Epoch 41] Loss: 0.3265\n",
            "[Epoch 42] Loss: 0.3276\n",
            "[Epoch 43] Loss: 0.3262\n",
            "[Epoch 44] Loss: 0.3292\n",
            "[Epoch 45] Loss: 0.3202\n",
            "[Epoch 46] Loss: 0.3159\n",
            "[Epoch 47] Loss: 0.3172\n",
            "[Epoch 48] Loss: 0.3105\n",
            "[Epoch 49] Loss: 0.3149\n",
            "[Epoch 50] Loss: 0.3106\n",
            "[Epoch 51] Loss: 0.3050\n",
            "[Epoch 52] Loss: 0.3002\n",
            "[Epoch 53] Loss: 0.3031\n",
            "[Epoch 54] Loss: 0.3102\n",
            "[Epoch 55] Loss: 0.3037\n",
            "[Epoch 56] Loss: 0.2959\n",
            "[Epoch 57] Loss: 0.2898\n",
            "[Epoch 58] Loss: 0.2951\n",
            "[Epoch 59] Loss: 0.2910\n",
            "[Epoch 60] Loss: 0.2952\n",
            "[Epoch 61] Loss: 0.2859\n",
            "[Epoch 62] Loss: 0.2812\n",
            "[Epoch 63] Loss: 0.2827\n",
            "[Epoch 64] Loss: 0.2757\n",
            "[Epoch 65] Loss: 0.2802\n",
            "[Epoch 66] Loss: 0.2761\n",
            "[Epoch 67] Loss: 0.2724\n",
            "[Epoch 68] Loss: 0.2758\n",
            "[Epoch 69] Loss: 0.2740\n",
            "[Epoch 70] Loss: 0.2708\n",
            "[Epoch 71] Loss: 0.2664\n",
            "[Epoch 72] Loss: 0.2648\n",
            "[Epoch 73] Loss: 0.2645\n",
            "[Epoch 74] Loss: 0.2645\n",
            "[Epoch 75] Loss: 0.2534\n",
            "[Epoch 76] Loss: 0.2571\n",
            "[Epoch 77] Loss: 0.2570\n",
            "[Epoch 78] Loss: 0.2573\n",
            "[Epoch 79] Loss: 0.2544\n",
            "[Epoch 80] Loss: 0.2520\n",
            "[Epoch 81] Loss: 0.2468\n",
            "[Epoch 82] Loss: 0.2473\n",
            "[Epoch 83] Loss: 0.2454\n",
            "[Epoch 84] Loss: 0.2481\n",
            "[Epoch 85] Loss: 0.2347\n",
            "[Epoch 86] Loss: 0.2362\n",
            "[Epoch 87] Loss: 0.2332\n",
            "[Epoch 88] Loss: 0.2345\n",
            "[Epoch 89] Loss: 0.2284\n",
            "[Epoch 90] Loss: 0.2352\n",
            "[Epoch 91] Loss: 0.2259\n",
            "[Epoch 92] Loss: 0.2266\n",
            "[Epoch 93] Loss: 0.2221\n",
            "[Epoch 94] Loss: 0.2260\n",
            "[Epoch 95] Loss: 0.2218\n",
            "[Epoch 96] Loss: 0.2109\n",
            "[Epoch 97] Loss: 0.2129\n",
            "[Epoch 98] Loss: 0.2132\n",
            "[Epoch 99] Loss: 0.2105\n",
            "[Epoch 100] Loss: 0.2108\n",
            "[Epoch 101] Loss: 0.2100\n",
            "[Epoch 102] Loss: 0.2057\n",
            "[Epoch 103] Loss: 0.2046\n",
            "[Epoch 104] Loss: 0.1950\n",
            "[Epoch 105] Loss: 0.2015\n",
            "[Epoch 106] Loss: 0.1997\n",
            "[Epoch 107] Loss: 0.1901\n",
            "[Epoch 108] Loss: 0.1923\n",
            "[Epoch 109] Loss: 0.1910\n",
            "[Epoch 110] Loss: 0.1873\n",
            "[Epoch 111] Loss: 0.1843\n",
            "[Epoch 112] Loss: 0.1860\n",
            "[Epoch 113] Loss: 0.1766\n",
            "[Epoch 114] Loss: 0.1793\n",
            "[Epoch 115] Loss: 0.1710\n",
            "[Epoch 116] Loss: 0.1800\n",
            "[Epoch 117] Loss: 0.1670\n",
            "[Epoch 118] Loss: 0.1692\n",
            "[Epoch 119] Loss: 0.1655\n",
            "[Epoch 120] Loss: 0.1638\n",
            "[Epoch 121] Loss: 0.1524\n",
            "[Epoch 122] Loss: 0.1609\n",
            "[Epoch 123] Loss: 0.1546\n",
            "[Epoch 124] Loss: 0.1546\n",
            "[Epoch 125] Loss: 0.1491\n",
            "[Epoch 126] Loss: 0.1458\n",
            "[Epoch 127] Loss: 0.1420\n",
            "[Epoch 128] Loss: 0.1431\n",
            "[Epoch 129] Loss: 0.1365\n",
            "[Epoch 130] Loss: 0.1324\n",
            "[Epoch 131] Loss: 0.1377\n",
            "[Epoch 132] Loss: 0.1339\n",
            "[Epoch 133] Loss: 0.1269\n",
            "[Epoch 134] Loss: 0.1276\n",
            "[Epoch 135] Loss: 0.1232\n",
            "[Epoch 136] Loss: 0.1187\n",
            "[Epoch 137] Loss: 0.1195\n",
            "[Epoch 138] Loss: 0.1153\n",
            "[Epoch 139] Loss: 0.1104\n",
            "[Epoch 140] Loss: 0.1070\n",
            "[Epoch 141] Loss: 0.1028\n",
            "[Epoch 142] Loss: 0.1027\n",
            "[Epoch 143] Loss: 0.0987\n",
            "[Epoch 144] Loss: 0.0952\n",
            "[Epoch 145] Loss: 0.0939\n",
            "[Epoch 146] Loss: 0.0928\n",
            "[Epoch 147] Loss: 0.0877\n",
            "[Epoch 148] Loss: 0.0820\n",
            "[Epoch 149] Loss: 0.0803\n",
            "[Epoch 150] Loss: 0.0789\n",
            "[Epoch 151] Loss: 0.0742\n",
            "[Epoch 152] Loss: 0.0761\n",
            "[Epoch 153] Loss: 0.0635\n",
            "[Epoch 154] Loss: 0.0648\n",
            "[Epoch 155] Loss: 0.0617\n",
            "[Epoch 156] Loss: 0.0616\n",
            "[Epoch 157] Loss: 0.0572\n",
            "[Epoch 158] Loss: 0.0578\n",
            "[Epoch 159] Loss: 0.0540\n",
            "[Epoch 160] Loss: 0.0503\n",
            "[Epoch 161] Loss: 0.0469\n",
            "[Epoch 162] Loss: 0.0446\n",
            "[Epoch 163] Loss: 0.0418\n",
            "[Epoch 164] Loss: 0.0367\n",
            "[Epoch 165] Loss: 0.0363\n",
            "[Epoch 166] Loss: 0.0343\n",
            "[Epoch 167] Loss: 0.0328\n",
            "[Epoch 168] Loss: 0.0305\n",
            "[Epoch 169] Loss: 0.0290\n",
            "[Epoch 170] Loss: 0.0270\n",
            "[Epoch 171] Loss: 0.0261\n",
            "[Epoch 172] Loss: 0.0243\n",
            "[Epoch 173] Loss: 0.0237\n",
            "[Epoch 174] Loss: 0.0211\n",
            "[Epoch 175] Loss: 0.0211\n",
            "[Epoch 176] Loss: 0.0190\n",
            "[Epoch 177] Loss: 0.0183\n",
            "[Epoch 178] Loss: 0.0196\n",
            "[Epoch 179] Loss: 0.0184\n",
            "[Epoch 180] Loss: 0.0174\n",
            "[Epoch 181] Loss: 0.0156\n",
            "[Epoch 182] Loss: 0.0146\n",
            "[Epoch 183] Loss: 0.0149\n",
            "[Epoch 184] Loss: 0.0150\n",
            "[Epoch 185] Loss: 0.0139\n",
            "[Epoch 186] Loss: 0.0146\n",
            "[Epoch 187] Loss: 0.0142\n",
            "[Epoch 188] Loss: 0.0139\n",
            "[Epoch 189] Loss: 0.0124\n",
            "[Epoch 190] Loss: 0.0129\n",
            "[Epoch 191] Loss: 0.0121\n",
            "[Epoch 192] Loss: 0.0125\n",
            "[Epoch 193] Loss: 0.0122\n",
            "[Epoch 194] Loss: 0.0122\n",
            "[Epoch 195] Loss: 0.0116\n",
            "[Epoch 196] Loss: 0.0123\n",
            "[Epoch 197] Loss: 0.0123\n",
            "[Epoch 198] Loss: 0.0114\n",
            "[Epoch 199] Loss: 0.0118\n",
            "[Epoch 200] Loss: 0.0110\n",
            "Finished Training\n",
            "Total Training Time: 2883.44 seconds (48.06 minutes)\n"
          ]
        }
      ]
    },
    {
      "cell_type": "markdown",
      "source": [
        "## **Storing the Model**"
      ],
      "metadata": {
        "id": "tHUqd90eshzQ"
      }
    },
    {
      "cell_type": "code",
      "source": [
        "PATH = '/content/drive/My Drive/Colab Notebooks/CS 680A: AI Security/Models/defense_baseline.pth'\n",
        "torch.save(net.state_dict(), PATH)"
      ],
      "metadata": {
        "id": "iGRa1v1rQbKl"
      },
      "execution_count": null,
      "outputs": []
    },
    {
      "cell_type": "code",
      "source": [
        "dataiter = iter(testloader)\n",
        "images, labels = next(dataiter)\n",
        "\n",
        "# print images\n",
        "imshow_grid(images, labels)"
      ],
      "metadata": {
        "colab": {
          "base_uri": "https://localhost:8080/",
          "height": 521
        },
        "id": "OwKj2fEZRwg4",
        "outputId": "5238eea8-31af-40c8-cf28-384daedd0925"
      },
      "execution_count": null,
      "outputs": [
        {
          "output_type": "display_data",
          "data": {
            "text/plain": [
              "<Figure size 600x600 with 1 Axes>"
            ],
            "image/png": "[encoded data removed]"
          },
          "metadata": {}
        }
      ]
    },
    {
      "cell_type": "markdown",
      "source": [
        "## **Loading the Model**"
      ],
      "metadata": {
        "id": "Hd6-nMwpssPf"
      }
    },
    {
      "cell_type": "code",
      "source": [
        "net = ResNet20()\n",
        "net = net.to(device)\n",
        "PATH = '/content/drive/My Drive/Colab Notebooks/CS 680A: AI Security/Models/defense_baseline.pth'\n",
        "net.load_state_dict(torch.load(PATH, weights_only=True))"
      ],
      "metadata": {
        "colab": {
          "base_uri": "https://localhost:8080/"
        },
        "id": "6w5A2aVORyMN",
        "outputId": "0824ccc3-465f-402d-aa00-52411ca9a90f"
      },
      "execution_count": null,
      "outputs": [
        {
          "output_type": "execute_result",
          "data": {
            "text/plain": [
              "<All keys matched successfully>"
            ]
          },
          "metadata": {},
          "execution_count": 11
        }
      ]
    },
    {
      "cell_type": "code",
      "source": [
        "outputs = net(images.to(device))"
      ],
      "metadata": {
        "id": "4WLeQF9wR09w"
      },
      "execution_count": null,
      "outputs": []
    },
    {
      "cell_type": "code",
      "source": [
        "_, predicted = torch.max(outputs, 1)\n",
        "\n",
        "print('Predicted: ', ' '.join(f'{classes[predicted[j]]:5s}'\n",
        "                              for j in range(4)))"
      ],
      "metadata": {
        "colab": {
          "base_uri": "https://localhost:8080/"
        },
        "id": "1PyhRbYsR5iE",
        "outputId": "60f471f1-2f3b-4787-dfba-1e070618ce98"
      },
      "execution_count": null,
      "outputs": [
        {
          "output_type": "stream",
          "name": "stdout",
          "text": [
            "Predicted:  cat   ship  ship  plane\n"
          ]
        }
      ]
    },
    {
      "cell_type": "markdown",
      "source": [
        "## **Calculating Accuracy Scores**"
      ],
      "metadata": {
        "id": "fwLJmik8MciX"
      }
    },
    {
      "cell_type": "code",
      "source": [
        "correct = 0\n",
        "total = 0\n",
        "# since we're not training, we don't need to calculate the gradients for our outputs\n",
        "with torch.no_grad():\n",
        "    for data in testloader:\n",
        "        images, labels = data\n",
        "        # calculate outputs by running images through the network\n",
        "        outputs = net(images.to(device))\n",
        "        # the class with the highest energy is what we choose as prediction\n",
        "        _, predicted = torch.max(outputs, 1)\n",
        "        total += labels.size(0)\n",
        "        correct += (predicted == labels.to(device)).sum().item()\n",
        "\n",
        "print(f'Accuracy of the network on the 10000 test images: {100 * correct // total:.2f} %')"
      ],
      "metadata": {
        "colab": {
          "base_uri": "https://localhost:8080/"
        },
        "id": "LDt2sjYkR6-0",
        "outputId": "e2802cc3-a9fb-42cd-b434-2b21194cc86c"
      },
      "execution_count": null,
      "outputs": [
        {
          "output_type": "stream",
          "name": "stdout",
          "text": [
            "Accuracy of the network on the 10000 test images: 91.00 %\n"
          ]
        }
      ]
    },
    {
      "cell_type": "code",
      "source": [
        "# prepare to count predictions for each class\n",
        "correct_pred = {classname: 0 for classname in classes}\n",
        "total_pred = {classname: 0 for classname in classes}\n",
        "\n",
        "# again no gradients needed\n",
        "with torch.no_grad():\n",
        "    for data in testloader:\n",
        "        images, labels = data\n",
        "        outputs = net(images.to(device))\n",
        "        _, predictions = torch.max(outputs, 1)\n",
        "        # collect the correct predictions for each class\n",
        "        for label, prediction in zip(labels, predictions):\n",
        "            if label.cuda() == prediction:\n",
        "                correct_pred[classes[label]] += 1\n",
        "            total_pred[classes[label]] += 1\n",
        "\n",
        "\n",
        "# print accuracy for each class\n",
        "for classname, correct_count in correct_pred.items():\n",
        "    accuracy = 100 * float(correct_count) / total_pred[classname]\n",
        "    print(f'Accuracy for class: {classname:5s} is {accuracy:.2f} %')"
      ],
      "metadata": {
        "colab": {
          "base_uri": "https://localhost:8080/"
        },
        "id": "RCyF8qSUR-bM",
        "outputId": "f266378f-23b3-4c2b-8dd2-ce3cd0f21dcf"
      },
      "execution_count": null,
      "outputs": [
        {
          "output_type": "stream",
          "name": "stdout",
          "text": [
            "Accuracy for class: plane is 93.60 %\n",
            "Accuracy for class: car   is 96.30 %\n",
            "Accuracy for class: bird  is 89.00 %\n",
            "Accuracy for class: cat   is 82.60 %\n",
            "Accuracy for class: deer  is 94.00 %\n",
            "Accuracy for class: dog   is 88.00 %\n",
            "Accuracy for class: frog  is 95.20 %\n",
            "Accuracy for class: horse is 93.60 %\n",
            "Accuracy for class: ship  is 94.80 %\n",
            "Accuracy for class: truck is 93.90 %\n"
          ]
        }
      ]
    },
    {
      "cell_type": "markdown",
      "source": [
        "# **Task 1: Performing Adversarial Training as a Defense to FGSM attacks**"
      ],
      "metadata": {
        "id": "g9Z1xkV90VQZ"
      }
    },
    {
      "cell_type": "markdown",
      "source": [
        "## **Defining the FGSM Attack**"
      ],
      "metadata": {
        "id": "KLKZhaew0kQL"
      }
    },
    {
      "cell_type": "code",
      "source": [
        "def fgsm_attack(model, images, labels, epsilon):\n",
        "    \"\"\"\n",
        "    Creates adversarial images via FGSM:\n",
        "      adv_x = x + epsilon * sign( dLoss/dx )\n",
        "    \"\"\"\n",
        "\n",
        "    # Make a copy so we don't mess up original input\n",
        "    images = images.clone().detach().to(device)\n",
        "    labels = labels.to(device)\n",
        "\n",
        "    # Require gradient\n",
        "    images.requires_grad = True\n",
        "\n",
        "    # Forward\n",
        "    outputs = model(images)\n",
        "    loss = F.cross_entropy(outputs, labels)\n",
        "\n",
        "    # Backward\n",
        "    model.zero_grad()\n",
        "    loss.backward()\n",
        "\n",
        "    # Collect the sign of the gradients\n",
        "    grad_sign = images.grad.data.sign()\n",
        "\n",
        "    # Create adversarial image (clamp to [0,1] if your input domain is 0..1)\n",
        "    adv_images = images + epsilon * grad_sign\n",
        "    adv_images = torch.clamp(adv_images, 0.0, 1.0)\n",
        "\n",
        "    return adv_images.detach()"
      ],
      "metadata": {
        "id": "E-hFMuiY0raQ"
      },
      "execution_count": null,
      "outputs": []
    },
    {
      "cell_type": "markdown",
      "source": [
        "## **Defining the Adversarial Training Loop**"
      ],
      "metadata": {
        "id": "ngjzSUb105vy"
      }
    },
    {
      "cell_type": "code",
      "source": [
        "def adversarial_train(model, trainloader, epochs=20, epsilon=0.031, lr=0.01):\n",
        "    \"\"\"\n",
        "    Perform basic FGSM-based adversarial training:\n",
        "      - For each batch:\n",
        "          1) Generate adv images with FGSM at `epsilon`.\n",
        "          2) Forward pass on adv images\n",
        "          3) Backprop + update\n",
        "    \"\"\"\n",
        "    # Switch to train mode\n",
        "    model.train()\n",
        "\n",
        "    # Optimizer can match your original or new hyperparams\n",
        "    optimizer = torch.optim.SGD(model.parameters(), lr=lr, momentum=0.9, weight_decay=2e-4)\n",
        "\n",
        "\n",
        "    for epoch in range(epochs):\n",
        "        running_loss = 0.0\n",
        "        for i, (inputs, labels) in enumerate(trainloader):\n",
        "            inputs, labels = inputs.to(device), labels.to(device)\n",
        "\n",
        "            # Step 1) Generate adversarial examples\n",
        "            adv_inputs = fgsm_attack(model, inputs, labels, epsilon=epsilon)\n",
        "\n",
        "            # Step 2) Forward on adv images\n",
        "            optimizer.zero_grad()\n",
        "            outputs = model(adv_inputs)\n",
        "            loss = F.cross_entropy(outputs, labels)\n",
        "\n",
        "            # Step 3) Backprop and update\n",
        "            loss.backward()\n",
        "            optimizer.step()\n",
        "\n",
        "            running_loss += loss.item()\n",
        "\n",
        "        avg_loss = running_loss / len(trainloader)\n",
        "        print(f\"[Epoch {epoch+1}/{epochs}] FGSM adv training loss: {avg_loss:.4f}\")\n",
        "\n",
        "    print(\"Finished Adversarial Training!\")\n",
        "    return model"
      ],
      "metadata": {
        "id": "Fm_6vNvz025g"
      },
      "execution_count": null,
      "outputs": []
    },
    {
      "cell_type": "markdown",
      "source": [
        "## **Performing Adversarial Training**"
      ],
      "metadata": {
        "id": "P9cctyuc3RdH"
      }
    },
    {
      "cell_type": "code",
      "source": [
        "model_adv = ResNet20().to(device)\n",
        "PATH = '/content/drive/My Drive/Colab Notebooks/CS 680A: AI Security/Models/defense_baseline.pth'\n",
        "model_adv.load_state_dict(torch.load(PATH, weights_only=True))\n",
        "\n",
        "model_adv = adversarial_train(model_adv, trainloader, epochs=20, epsilon=0.031, lr=0.01)"
      ],
      "metadata": {
        "colab": {
          "base_uri": "https://localhost:8080/"
        },
        "id": "WD_sRqWH1BKI",
        "outputId": "1bc2f704-21c7-4aea-d539-a82f0886134c"
      },
      "execution_count": null,
      "outputs": [
        {
          "output_type": "stream",
          "name": "stdout",
          "text": [
            "[Epoch 1/20] FGSM adv training loss: 1.4316\n",
            "[Epoch 2/20] FGSM adv training loss: 1.3183\n",
            "[Epoch 3/20] FGSM adv training loss: 1.2187\n",
            "[Epoch 4/20] FGSM adv training loss: 1.0940\n",
            "[Epoch 5/20] FGSM adv training loss: 1.0935\n",
            "[Epoch 6/20] FGSM adv training loss: 0.9988\n",
            "[Epoch 7/20] FGSM adv training loss: 0.9379\n",
            "[Epoch 8/20] FGSM adv training loss: 0.8480\n",
            "[Epoch 9/20] FGSM adv training loss: 0.5755\n",
            "[Epoch 10/20] FGSM adv training loss: 0.4210\n",
            "[Epoch 11/20] FGSM adv training loss: 0.3861\n",
            "[Epoch 12/20] FGSM adv training loss: 0.3732\n",
            "[Epoch 13/20] FGSM adv training loss: 0.3496\n",
            "[Epoch 14/20] FGSM adv training loss: 0.3288\n",
            "[Epoch 15/20] FGSM adv training loss: 0.3111\n",
            "[Epoch 16/20] FGSM adv training loss: 0.3275\n",
            "[Epoch 17/20] FGSM adv training loss: 0.3268\n",
            "[Epoch 18/20] FGSM adv training loss: 0.3201\n",
            "[Epoch 19/20] FGSM adv training loss: 0.3151\n",
            "[Epoch 20/20] FGSM adv training loss: 0.2957\n",
            "Finished Adversarial Training!\n"
          ]
        }
      ]
    },
    {
      "cell_type": "code",
      "source": [
        "torch.save(model_adv.state_dict(), '/content/drive/My Drive/Colab Notebooks/CS 680A: AI Security/Models/defense_adv.pth')"
      ],
      "metadata": {
        "id": "YgQkwpmG3IDR"
      },
      "execution_count": null,
      "outputs": []
    },
    {
      "cell_type": "markdown",
      "source": [
        "## **Defining the Evaluation Function**"
      ],
      "metadata": {
        "id": "VEKvGGWU3j5B"
      }
    },
    {
      "cell_type": "code",
      "source": [
        "def evaluate_accuracy_vs_epsilon(model, loader, eps_list):\n",
        "    \"\"\"\n",
        "    Returns a list of accuracies for FGSM attacks at each epsilon in eps_list.\n",
        "    \"\"\"\n",
        "    accuracies = []\n",
        "    model.eval()\n",
        "    for eps in eps_list:\n",
        "        correct = 0\n",
        "        total = 0\n",
        "\n",
        "        # Evaluate on the FGSM-perturbed images\n",
        "        for images, labels in loader:\n",
        "            images, labels = images.to(device), labels.to(device)\n",
        "            # Create adv images\n",
        "            adv_images = fgsm_attack(model, images, labels, epsilon=eps)\n",
        "            outputs = model(adv_images)\n",
        "            _, predicted = torch.max(outputs, 1)\n",
        "            total += labels.size(0)\n",
        "            correct += (predicted == labels).sum().item()\n",
        "\n",
        "        acc = 100.0 * correct / total\n",
        "        accuracies.append(acc)\n",
        "    return accuracies"
      ],
      "metadata": {
        "id": "T_oP0cR23jMJ"
      },
      "execution_count": null,
      "outputs": []
    },
    {
      "cell_type": "markdown",
      "source": [
        "## **Evaluating Both the Models**"
      ],
      "metadata": {
        "id": "OZfcewAw3YOh"
      }
    },
    {
      "cell_type": "code",
      "source": [
        "epsilons = [0.01, 0.02, 0.03, 0.04, 0.05]\n",
        "\n",
        "# Evaluate baseline model\n",
        "acc_baseline = evaluate_accuracy_vs_epsilon(net, testloader, epsilons)\n",
        "\n",
        "# Evaluate adv-trained model\n",
        "acc_advtrained = evaluate_accuracy_vs_epsilon(model_adv, testloader, epsilons)\n",
        "\n",
        "\n",
        "# Plot the results\n",
        "plt.figure(figsize=(8,5))\n",
        "plt.plot(epsilons, acc_baseline, marker='o', label='Baseline Model')\n",
        "plt.plot(epsilons, acc_advtrained, marker='s', label='Adv-Trained Model')\n",
        "plt.title(\"Accuracy vs. Epsilon under FGSM Attack\")\n",
        "plt.xlabel(\"Epsilon\")\n",
        "plt.ylabel(\"Accuracy (%)\")\n",
        "plt.legend()\n",
        "plt.grid(True)\n",
        "plt.show()"
      ],
      "metadata": {
        "colab": {
          "base_uri": "https://localhost:8080/",
          "height": 487
        },
        "id": "OCmtPeZu3geg",
        "outputId": "985b5689-4cd6-4e21-bb91-517640f2204e"
      },
      "execution_count": null,
      "outputs": [
        {
          "output_type": "display_data",
          "data": {
            "text/plain": [
              "<Figure size 800x500 with 1 Axes>"
            ],
            "image/png": "[encoded data removed]"
          },
          "metadata": {}
        }
      ]
    },
    {
      "cell_type": "markdown",
      "source": [
        "# **Task 2: CLP based defense on Backdoor model with BadNet Trigger**"
      ],
      "metadata": {
        "id": "_1bQmzkQHgS3"
      }
    },
    {
      "cell_type": "markdown",
      "source": [
        "## **Reverting Back to the old Data Pipeline and Architecture**"
      ],
      "metadata": {
        "id": "lAj4d7UAY8Pt"
      }
    },
    {
      "cell_type": "code",
      "source": [
        "transform = transforms.Compose(\n",
        "    # Adding Random Croping and Flipping for Best Results\n",
        "    [transforms.RandomCrop(32, padding=4),\n",
        "     transforms.RandomHorizontalFlip(),\n",
        "     transforms.ToTensor(),\n",
        "     transforms.Normalize((0.5, 0.5, 0.5), (0.5, 0.5, 0.5))])\n",
        "\n",
        "# Changed the Batch Size to 128 for Best Results\n",
        "batch_size = 128\n",
        "\n",
        "trainset = torchvision.datasets.CIFAR10(root='./data', train=True,\n",
        "                                        download=True, transform=transform)\n",
        "trainloader = torch.utils.data.DataLoader(trainset, batch_size=batch_size,\n",
        "                                          shuffle=True, num_workers=2)\n",
        "\n",
        "testset = torchvision.datasets.CIFAR10(root='./data', train=False,\n",
        "                                       download=True, transform=transform)\n",
        "testloader = torch.utils.data.DataLoader(testset, batch_size=batch_size,\n",
        "                                         shuffle=False, num_workers=2)\n",
        "\n",
        "classes = ('plane', 'car', 'bird', 'cat',\n",
        "           'deer', 'dog', 'frog', 'horse', 'ship', 'truck')"
      ],
      "metadata": {
        "colab": {
          "base_uri": "https://localhost:8080/"
        },
        "id": "NcymfXOwSb1O",
        "outputId": "6c75b83d-9610-4a0f-8354-7d4add785311"
      },
      "execution_count": null,
      "outputs": [
        {
          "output_type": "stream",
          "name": "stderr",
          "text": [
            "100%|██████████| 170M/170M [00:03<00:00, 50.9MB/s]\n"
          ]
        }
      ]
    },
    {
      "cell_type": "code",
      "source": [
        "class BasicBlock_(nn.Module):\n",
        "    expansion = 1\n",
        "\n",
        "    def __init__(self, in_planes, planes, stride=1):\n",
        "        super(BasicBlock_, self).__init__()\n",
        "        self.conv1 = nn.Conv2d(in_planes, planes, kernel_size=3, stride=stride, padding=1, bias=False)\n",
        "        self.bn1 = nn.BatchNorm2d(planes)\n",
        "        self.conv2 = nn.Conv2d(planes, planes, kernel_size=3, stride=1, padding=1, bias=False)\n",
        "        self.bn2 = nn.BatchNorm2d(planes)\n",
        "\n",
        "        self.shortcut = nn.Sequential()\n",
        "        if stride != 1 or in_planes != self.expansion * planes:\n",
        "            self.shortcut = nn.Sequential(\n",
        "                nn.Conv2d(in_planes, self.expansion * planes, kernel_size=1, stride=stride, bias=False),\n",
        "                nn.BatchNorm2d(self.expansion * planes)\n",
        "            )\n",
        "\n",
        "    def forward(self, x):\n",
        "        out = F.relu(self.bn1(self.conv1(x)))\n",
        "        out = self.bn2(self.conv2(out))\n",
        "        out += self.shortcut(x)\n",
        "        out = F.relu(out)\n",
        "        return out\n",
        "\n",
        "class ResNet_(nn.Module):\n",
        "    def __init__(self, block, num_blocks, num_classes=10):\n",
        "        super(ResNet_, self).__init__()\n",
        "        self.in_planes = 16\n",
        "\n",
        "        self.conv1 = nn.Conv2d(3, 16, kernel_size=3, stride=1, padding=1, bias=False)\n",
        "        self.bn1 = nn.BatchNorm2d(16)\n",
        "        self.layer1 = self._make_layer(block, 16, num_blocks[0], stride=1)\n",
        "        self.layer2 = self._make_layer(block, 32, num_blocks[1], stride=2)\n",
        "        self.layer3 = self._make_layer(block, 64, num_blocks[2], stride=2)\n",
        "        self.linear = nn.Linear(64, num_classes)\n",
        "\n",
        "    def _make_layer(self, block, planes, num_blocks, stride):\n",
        "        strides = [stride] + [1] * (num_blocks - 1)\n",
        "        layers = []\n",
        "        for stride in strides:\n",
        "            layers.append(block(self.in_planes, planes, stride))\n",
        "            self.in_planes = planes * block.expansion\n",
        "        return nn.Sequential(*layers)\n",
        "\n",
        "    def forward(self, x):\n",
        "        out = F.relu(self.bn1(self.conv1(x)))\n",
        "        out = self.layer1(out)\n",
        "        out = self.layer2(out)\n",
        "        out = self.layer3(out)\n",
        "        out = F.avg_pool2d(out, out.size()[3])\n",
        "        out = out.view(out.size(0), -1)\n",
        "        out = self.linear(out)\n",
        "        return out\n",
        "\n",
        "def ResNet20_():\n",
        "    return ResNet_(BasicBlock_, [3, 3, 3])"
      ],
      "metadata": {
        "id": "xl0n_JaPSLEG"
      },
      "execution_count": null,
      "outputs": []
    },
    {
      "cell_type": "code",
      "source": [
        "def imshow(img, labels):\n",
        "    img = img[:16] #shows the first 16 images\n",
        "    labels = labels[:16] #shows the first 16 labels\n",
        "    img = img / 2 + 0.5     # unnormalize\n",
        "    npimg = img.numpy()\n",
        "\n",
        "    # plt.figure(figsize=(10, 10))\n",
        "    # plt.imshow(np.transpose(npimg, (1, 2, 0)))\n",
        "    # plt.show()\n",
        "\n",
        "    fig, axes = plt.subplots(4, 4, figsize=(8, 8))\n",
        "    fig.subplots_adjust(hspace=0.5)  # Adjust space between images\n",
        "\n",
        "    for i, ax in enumerate(axes.flat):\n",
        "        if i < 16:\n",
        "            img = np.transpose(npimg[i], (1, 2, 0))\n",
        "            ax.imshow(img)\n",
        "            ax.set_title(classes[labels[i].item()], fontsize=10)\n",
        "            ax.axis(\"off\")  # Remove axes\n",
        "\n",
        "    plt.show()\n",
        "\n",
        "\n",
        "# get some random training images\n",
        "dataiter = iter(trainloader)\n",
        "images, labels = next(dataiter)\n",
        "\n",
        "# show images\n",
        "imshow(images, labels)"
      ],
      "metadata": {
        "colab": {
          "base_uri": "https://localhost:8080/",
          "height": 672
        },
        "id": "MxOkdKSvSgXn",
        "outputId": "de211c09-bf76-4ae8-b713-b7a926eb714a"
      },
      "execution_count": null,
      "outputs": [
        {
          "output_type": "display_data",
          "data": {
            "text/plain": [
              "<Figure size 800x800 with 16 Axes>"
            ],
            "image/png": "[encoded data removed]"
          },
          "metadata": {}
        }
      ]
    },
    {
      "cell_type": "markdown",
      "source": [
        "## **Defining the CLP Defense Function**"
      ],
      "metadata": {
        "id": "e9YVzsa2Y-iv"
      }
    },
    {
      "cell_type": "code",
      "source": [
        "def CLP(net, u):\n",
        "    new_net = ResNet20_().to(device)\n",
        "    params = net.state_dict()\n",
        "    for name, m in net.named_modules():\n",
        "        if isinstance(m, nn.BatchNorm2d):\n",
        "            std = m.running_var.sqrt()\n",
        "            weight = m.weight\n",
        "\n",
        "            channel_lips = []\n",
        "            for idx in range(weight.shape[0]):\n",
        "                # Combining weights of convolutions and BN\n",
        "                w = conv.weight[idx].reshape(conv.weight.shape[1], -1) * (weight[idx]/std[idx]).abs()\n",
        "                channel_lips.append(torch.svd(w.cpu())[1].max())\n",
        "            channel_lips = torch.Tensor(channel_lips)\n",
        "\n",
        "            index = torch.where(channel_lips>channel_lips.mean() + u*channel_lips.std())[0]\n",
        "\n",
        "            params[name+'.weight'][index] = 0\n",
        "            params[name+'.bias'][index] = 0\n",
        "            print(f\"Pruned {len(index)} channel(s) at layer={name} with threshold u={u}\")\n",
        "\n",
        "       # Convolutional layer should be followed by a BN layer by default\n",
        "        elif isinstance(m, nn.Conv2d):\n",
        "            conv = m\n",
        "\n",
        "    new_net.load_state_dict(params)\n",
        "    return new_net"
      ],
      "metadata": {
        "id": "ZydT4ANFHf8Q"
      },
      "execution_count": null,
      "outputs": []
    },
    {
      "cell_type": "markdown",
      "source": [
        "## **Adding the Functions Needed for Evaluation**"
      ],
      "metadata": {
        "id": "mDmah5dnZMa8"
      }
    },
    {
      "cell_type": "code",
      "source": [
        "def add_trigger(img, trigger, position=\"bottom_left\"):\n",
        "  img = img.clone()\n",
        "  c, h, w = img.shape\n",
        "\n",
        "  if position == \"bottom_left\":\n",
        "    img[:, -trigger.shape[1]:, :trigger.shape[2]] = trigger\n",
        "  elif position == \"bottom_right\":\n",
        "    img[:, -trigger.shape[1]:, -trigger.shape[2]:] = trigger\n",
        "  elif position == \"top_left\":\n",
        "    img[:, :trigger.shape[1], :trigger.shape[2]] = trigger\n",
        "  elif position == \"top_right\":\n",
        "    img[:, :trigger.shape[1], -trigger.shape[2]:] = trigger\n",
        "\n",
        "  return img\n",
        "\n",
        "def evaluate_poisoned_model(model, testloader, trigger, target_class, trigger_size, position=\"bottom_left\"):\n",
        "\n",
        "    model.eval()\n",
        "    correct_clean = 0\n",
        "    total_clean = 0\n",
        "    correct_asr = 0\n",
        "    total_asr = 0\n",
        "\n",
        "    # Evaluate clean accuracy\n",
        "    with torch.no_grad():\n",
        "        for images, labels in testloader:\n",
        "            images = images.to(device)\n",
        "            labels = labels.to(device)\n",
        "            outputs = model(images)\n",
        "            _, predicted = torch.max(outputs, 1)\n",
        "            total_clean += labels.size(0)\n",
        "            correct_clean += (predicted == labels).sum().item()\n",
        "\n",
        "    # Evaluate attack success rate (ASR)\n",
        "    with torch.no_grad():\n",
        "        for images, _ in testloader:\n",
        "            # Move images to CPU for triggering (if your add_trigger expects CPU tensors)\n",
        "            # and then move back to CUDA.\n",
        "            # If your add_trigger function already handles that, adjust accordingly.\n",
        "            poisoned_images = []\n",
        "            for img in images:\n",
        "                # Ensure the image is on CPU before applying the trigger\n",
        "                img_cpu = img.cpu()\n",
        "                poisoned_img = add_trigger(img_cpu, trigger, position)\n",
        "                poisoned_images.append(poisoned_img)\n",
        "            # Stack all images and move to CUDA\n",
        "            poisoned_images = torch.stack(poisoned_images).to(device)\n",
        "            outputs = model(poisoned_images)\n",
        "            _, predicted = torch.max(outputs, 1)\n",
        "            total_asr += poisoned_images.size(0)\n",
        "            # Count as success if the model predicts the target class\n",
        "            correct_asr += (predicted == target_class).sum().item()\n",
        "\n",
        "    clean_accuracy = 100 * correct_clean / total_clean\n",
        "    asr = 100 * correct_asr / total_asr if total_asr > 0 else 0\n",
        "\n",
        "    return clean_accuracy, asr"
      ],
      "metadata": {
        "id": "gFM5qnXRVrNX"
      },
      "execution_count": null,
      "outputs": []
    },
    {
      "cell_type": "code",
      "source": [
        "def evaluate_clean_accuracy(model, dataloader):\n",
        "    model.eval()\n",
        "    correct = 0\n",
        "    total = 0\n",
        "\n",
        "    with torch.no_grad():\n",
        "        for inputs, labels in dataloader:\n",
        "            inputs, labels = inputs.to(device), labels.to(device)\n",
        "            outputs = model(inputs)\n",
        "            _, predicted = torch.max(outputs, 1)\n",
        "            total += labels.size(0)\n",
        "            correct += (predicted == labels).sum().item()\n",
        "\n",
        "    accuracy = 100.0 * correct / total\n",
        "    return accuracy"
      ],
      "metadata": {
        "id": "1BgIux0fc4qG"
      },
      "execution_count": null,
      "outputs": []
    },
    {
      "cell_type": "markdown",
      "source": [
        "## **Evaluating the Defense on Backdoored Model**"
      ],
      "metadata": {
        "id": "uTSZPNXNZSpn"
      }
    },
    {
      "cell_type": "code",
      "source": [
        "model_path = \"/content/drive/My Drive/Colab Notebooks/CS 680A: AI Security/Models/poisoned_10_bottom_left_cifar_10.pth\"\n",
        "\n",
        "trigger_size = (9,9)\n",
        "trigger_path = \"/content/drive/My Drive/Colab Notebooks/CS 680A: AI Security/Images/S_Sign_Trigger.jpg\"\n",
        "target_class = 2\n",
        "\n",
        "thresholds = [1.0, 2.0, 3.0, 4.0, 5.0, 6.0, 7.0, 8.0, 9.0]\n",
        "results = []\n",
        "\n",
        "trigger = Image.open(trigger_path).convert(\"RGB\")\n",
        "transform_image = transforms.Compose([transforms.Resize(trigger_size), transforms.ToTensor()])\n",
        "trigger = transform_image(trigger)\n",
        "for t in thresholds:\n",
        "    # Load a fresh copy of the backdoored model\n",
        "    n = ResNet20_().to(device)\n",
        "    n.load_state_dict(torch.load(model_path, map_location=device))\n",
        "\n",
        "    new_net = ResNet20_().to(device)\n",
        "    new_net = CLP(n, t)\n",
        "\n",
        "\n",
        "    torch.save(new_net.state_dict(), f'/content/drive/My Drive/Colab Notebooks/CS 680A: AI Security/Models/CLP_on_Backdoored_with_{t}_threshold.pth')\n",
        "\n",
        "\n",
        "    clean_acc, attack_success_rate = evaluate_poisoned_model(new_net, testloader, trigger, target_class=2, trigger_size= trigger_size, position=\"bottom_left\")\n",
        "\n",
        "    # 4Print or store results\n",
        "\n",
        "    print(f\"\\nThreshold={t} => Clean Accuracy: {clean_acc:.2f}% | ASR = {attack_success_rate:.2f}%\\n\")\n",
        "    results.append((t, clean_acc, attack_success_rate))"
      ],
      "metadata": {
        "colab": {
          "base_uri": "https://localhost:8080/"
        },
        "id": "S1Q01F_NMA8g",
        "outputId": "bc49af21-ffff-4572-f80b-deb56492054f"
      },
      "execution_count": null,
      "outputs": [
        {
          "output_type": "stream",
          "name": "stdout",
          "text": [
            "Pruned 2 channel(s) at layer=bn1 with threshold u=1.0\n",
            "Pruned 3 channel(s) at layer=layer1.0.bn1 with threshold u=1.0\n",
            "Pruned 3 channel(s) at layer=layer1.0.bn2 with threshold u=1.0\n",
            "Pruned 2 channel(s) at layer=layer1.1.bn1 with threshold u=1.0\n",
            "Pruned 4 channel(s) at layer=layer1.1.bn2 with threshold u=1.0\n",
            "Pruned 3 channel(s) at layer=layer1.2.bn1 with threshold u=1.0\n",
            "Pruned 4 channel(s) at layer=layer1.2.bn2 with threshold u=1.0\n",
            "Pruned 4 channel(s) at layer=layer2.0.bn1 with threshold u=1.0\n",
            "Pruned 6 channel(s) at layer=layer2.0.bn2 with threshold u=1.0\n",
            "Pruned 4 channel(s) at layer=layer2.0.shortcut.1 with threshold u=1.0\n",
            "Pruned 3 channel(s) at layer=layer2.1.bn1 with threshold u=1.0\n",
            "Pruned 7 channel(s) at layer=layer2.1.bn2 with threshold u=1.0\n",
            "Pruned 5 channel(s) at layer=layer2.2.bn1 with threshold u=1.0\n",
            "Pruned 4 channel(s) at layer=layer2.2.bn2 with threshold u=1.0\n",
            "Pruned 9 channel(s) at layer=layer3.0.bn1 with threshold u=1.0\n",
            "Pruned 9 channel(s) at layer=layer3.0.bn2 with threshold u=1.0\n",
            "Pruned 8 channel(s) at layer=layer3.0.shortcut.1 with threshold u=1.0\n",
            "Pruned 5 channel(s) at layer=layer3.1.bn1 with threshold u=1.0\n",
            "Pruned 12 channel(s) at layer=layer3.1.bn2 with threshold u=1.0\n",
            "Pruned 9 channel(s) at layer=layer3.2.bn1 with threshold u=1.0\n",
            "Pruned 8 channel(s) at layer=layer3.2.bn2 with threshold u=1.0\n",
            "\n",
            "Threshold=1.0 => Clean Accuracy: 13.32% | ASR = 0.00%\n",
            "\n",
            "Pruned 1 channel(s) at layer=bn1 with threshold u=2.0\n",
            "Pruned 0 channel(s) at layer=layer1.0.bn1 with threshold u=2.0\n",
            "Pruned 0 channel(s) at layer=layer1.0.bn2 with threshold u=2.0\n",
            "Pruned 0 channel(s) at layer=layer1.1.bn1 with threshold u=2.0\n",
            "Pruned 0 channel(s) at layer=layer1.1.bn2 with threshold u=2.0\n",
            "Pruned 1 channel(s) at layer=layer1.2.bn1 with threshold u=2.0\n",
            "Pruned 0 channel(s) at layer=layer1.2.bn2 with threshold u=2.0\n",
            "Pruned 1 channel(s) at layer=layer2.0.bn1 with threshold u=2.0\n",
            "Pruned 1 channel(s) at layer=layer2.0.bn2 with threshold u=2.0\n",
            "Pruned 0 channel(s) at layer=layer2.0.shortcut.1 with threshold u=2.0\n",
            "Pruned 1 channel(s) at layer=layer2.1.bn1 with threshold u=2.0\n",
            "Pruned 0 channel(s) at layer=layer2.1.bn2 with threshold u=2.0\n",
            "Pruned 0 channel(s) at layer=layer2.2.bn1 with threshold u=2.0\n",
            "Pruned 1 channel(s) at layer=layer2.2.bn2 with threshold u=2.0\n",
            "Pruned 3 channel(s) at layer=layer3.0.bn1 with threshold u=2.0\n",
            "Pruned 1 channel(s) at layer=layer3.0.bn2 with threshold u=2.0\n",
            "Pruned 4 channel(s) at layer=layer3.0.shortcut.1 with threshold u=2.0\n",
            "Pruned 2 channel(s) at layer=layer3.1.bn1 with threshold u=2.0\n",
            "Pruned 1 channel(s) at layer=layer3.1.bn2 with threshold u=2.0\n",
            "Pruned 3 channel(s) at layer=layer3.2.bn1 with threshold u=2.0\n",
            "Pruned 0 channel(s) at layer=layer3.2.bn2 with threshold u=2.0\n",
            "\n",
            "Threshold=2.0 => Clean Accuracy: 67.74% | ASR = 5.22%\n",
            "\n",
            "Pruned 1 channel(s) at layer=bn1 with threshold u=3.0\n",
            "Pruned 0 channel(s) at layer=layer1.0.bn1 with threshold u=3.0\n",
            "Pruned 0 channel(s) at layer=layer1.0.bn2 with threshold u=3.0\n",
            "Pruned 0 channel(s) at layer=layer1.1.bn1 with threshold u=3.0\n",
            "Pruned 0 channel(s) at layer=layer1.1.bn2 with threshold u=3.0\n",
            "Pruned 0 channel(s) at layer=layer1.2.bn1 with threshold u=3.0\n",
            "Pruned 0 channel(s) at layer=layer1.2.bn2 with threshold u=3.0\n",
            "Pruned 0 channel(s) at layer=layer2.0.bn1 with threshold u=3.0\n",
            "Pruned 0 channel(s) at layer=layer2.0.bn2 with threshold u=3.0\n",
            "Pruned 0 channel(s) at layer=layer2.0.shortcut.1 with threshold u=3.0\n",
            "Pruned 0 channel(s) at layer=layer2.1.bn1 with threshold u=3.0\n",
            "Pruned 0 channel(s) at layer=layer2.1.bn2 with threshold u=3.0\n",
            "Pruned 0 channel(s) at layer=layer2.2.bn1 with threshold u=3.0\n",
            "Pruned 0 channel(s) at layer=layer2.2.bn2 with threshold u=3.0\n",
            "Pruned 0 channel(s) at layer=layer3.0.bn1 with threshold u=3.0\n",
            "Pruned 0 channel(s) at layer=layer3.0.bn2 with threshold u=3.0\n",
            "Pruned 0 channel(s) at layer=layer3.0.shortcut.1 with threshold u=3.0\n",
            "Pruned 1 channel(s) at layer=layer3.1.bn1 with threshold u=3.0\n",
            "Pruned 0 channel(s) at layer=layer3.1.bn2 with threshold u=3.0\n",
            "Pruned 1 channel(s) at layer=layer3.2.bn1 with threshold u=3.0\n",
            "Pruned 0 channel(s) at layer=layer3.2.bn2 with threshold u=3.0\n",
            "\n",
            "Threshold=3.0 => Clean Accuracy: 75.18% | ASR = 18.75%\n",
            "\n",
            "Pruned 0 channel(s) at layer=bn1 with threshold u=4.0\n",
            "Pruned 0 channel(s) at layer=layer1.0.bn1 with threshold u=4.0\n",
            "Pruned 0 channel(s) at layer=layer1.0.bn2 with threshold u=4.0\n",
            "Pruned 0 channel(s) at layer=layer1.1.bn1 with threshold u=4.0\n",
            "Pruned 0 channel(s) at layer=layer1.1.bn2 with threshold u=4.0\n",
            "Pruned 0 channel(s) at layer=layer1.2.bn1 with threshold u=4.0\n",
            "Pruned 0 channel(s) at layer=layer1.2.bn2 with threshold u=4.0\n",
            "Pruned 0 channel(s) at layer=layer2.0.bn1 with threshold u=4.0\n",
            "Pruned 0 channel(s) at layer=layer2.0.bn2 with threshold u=4.0\n",
            "Pruned 0 channel(s) at layer=layer2.0.shortcut.1 with threshold u=4.0\n",
            "Pruned 0 channel(s) at layer=layer2.1.bn1 with threshold u=4.0\n",
            "Pruned 0 channel(s) at layer=layer2.1.bn2 with threshold u=4.0\n",
            "Pruned 0 channel(s) at layer=layer2.2.bn1 with threshold u=4.0\n",
            "Pruned 0 channel(s) at layer=layer2.2.bn2 with threshold u=4.0\n",
            "Pruned 0 channel(s) at layer=layer3.0.bn1 with threshold u=4.0\n",
            "Pruned 0 channel(s) at layer=layer3.0.bn2 with threshold u=4.0\n",
            "Pruned 0 channel(s) at layer=layer3.0.shortcut.1 with threshold u=4.0\n",
            "Pruned 1 channel(s) at layer=layer3.1.bn1 with threshold u=4.0\n",
            "Pruned 0 channel(s) at layer=layer3.1.bn2 with threshold u=4.0\n",
            "Pruned 0 channel(s) at layer=layer3.2.bn1 with threshold u=4.0\n",
            "Pruned 0 channel(s) at layer=layer3.2.bn2 with threshold u=4.0\n",
            "\n",
            "Threshold=4.0 => Clean Accuracy: 84.37% | ASR = 32.39%\n",
            "\n",
            "Pruned 0 channel(s) at layer=bn1 with threshold u=5.0\n",
            "Pruned 0 channel(s) at layer=layer1.0.bn1 with threshold u=5.0\n",
            "Pruned 0 channel(s) at layer=layer1.0.bn2 with threshold u=5.0\n",
            "Pruned 0 channel(s) at layer=layer1.1.bn1 with threshold u=5.0\n",
            "Pruned 0 channel(s) at layer=layer1.1.bn2 with threshold u=5.0\n",
            "Pruned 0 channel(s) at layer=layer1.2.bn1 with threshold u=5.0\n",
            "Pruned 0 channel(s) at layer=layer1.2.bn2 with threshold u=5.0\n",
            "Pruned 0 channel(s) at layer=layer2.0.bn1 with threshold u=5.0\n",
            "Pruned 0 channel(s) at layer=layer2.0.bn2 with threshold u=5.0\n",
            "Pruned 0 channel(s) at layer=layer2.0.shortcut.1 with threshold u=5.0\n",
            "Pruned 0 channel(s) at layer=layer2.1.bn1 with threshold u=5.0\n",
            "Pruned 0 channel(s) at layer=layer2.1.bn2 with threshold u=5.0\n",
            "Pruned 0 channel(s) at layer=layer2.2.bn1 with threshold u=5.0\n",
            "Pruned 0 channel(s) at layer=layer2.2.bn2 with threshold u=5.0\n",
            "Pruned 0 channel(s) at layer=layer3.0.bn1 with threshold u=5.0\n",
            "Pruned 0 channel(s) at layer=layer3.0.bn2 with threshold u=5.0\n",
            "Pruned 0 channel(s) at layer=layer3.0.shortcut.1 with threshold u=5.0\n",
            "Pruned 1 channel(s) at layer=layer3.1.bn1 with threshold u=5.0\n",
            "Pruned 0 channel(s) at layer=layer3.1.bn2 with threshold u=5.0\n",
            "Pruned 0 channel(s) at layer=layer3.2.bn1 with threshold u=5.0\n",
            "Pruned 0 channel(s) at layer=layer3.2.bn2 with threshold u=5.0\n",
            "\n",
            "Threshold=5.0 => Clean Accuracy: 83.79% | ASR = 32.30%\n",
            "\n",
            "Pruned 0 channel(s) at layer=bn1 with threshold u=6.0\n",
            "Pruned 0 channel(s) at layer=layer1.0.bn1 with threshold u=6.0\n",
            "Pruned 0 channel(s) at layer=layer1.0.bn2 with threshold u=6.0\n",
            "Pruned 0 channel(s) at layer=layer1.1.bn1 with threshold u=6.0\n",
            "Pruned 0 channel(s) at layer=layer1.1.bn2 with threshold u=6.0\n",
            "Pruned 0 channel(s) at layer=layer1.2.bn1 with threshold u=6.0\n",
            "Pruned 0 channel(s) at layer=layer1.2.bn2 with threshold u=6.0\n",
            "Pruned 0 channel(s) at layer=layer2.0.bn1 with threshold u=6.0\n",
            "Pruned 0 channel(s) at layer=layer2.0.bn2 with threshold u=6.0\n",
            "Pruned 0 channel(s) at layer=layer2.0.shortcut.1 with threshold u=6.0\n",
            "Pruned 0 channel(s) at layer=layer2.1.bn1 with threshold u=6.0\n",
            "Pruned 0 channel(s) at layer=layer2.1.bn2 with threshold u=6.0\n",
            "Pruned 0 channel(s) at layer=layer2.2.bn1 with threshold u=6.0\n",
            "Pruned 0 channel(s) at layer=layer2.2.bn2 with threshold u=6.0\n",
            "Pruned 0 channel(s) at layer=layer3.0.bn1 with threshold u=6.0\n",
            "Pruned 0 channel(s) at layer=layer3.0.bn2 with threshold u=6.0\n",
            "Pruned 0 channel(s) at layer=layer3.0.shortcut.1 with threshold u=6.0\n",
            "Pruned 0 channel(s) at layer=layer3.1.bn1 with threshold u=6.0\n",
            "Pruned 0 channel(s) at layer=layer3.1.bn2 with threshold u=6.0\n",
            "Pruned 0 channel(s) at layer=layer3.2.bn1 with threshold u=6.0\n",
            "Pruned 0 channel(s) at layer=layer3.2.bn2 with threshold u=6.0\n",
            "\n",
            "Threshold=6.0 => Clean Accuracy: 84.51% | ASR = 100.00%\n",
            "\n",
            "Pruned 0 channel(s) at layer=bn1 with threshold u=7.0\n",
            "Pruned 0 channel(s) at layer=layer1.0.bn1 with threshold u=7.0\n",
            "Pruned 0 channel(s) at layer=layer1.0.bn2 with threshold u=7.0\n",
            "Pruned 0 channel(s) at layer=layer1.1.bn1 with threshold u=7.0\n",
            "Pruned 0 channel(s) at layer=layer1.1.bn2 with threshold u=7.0\n",
            "Pruned 0 channel(s) at layer=layer1.2.bn1 with threshold u=7.0\n",
            "Pruned 0 channel(s) at layer=layer1.2.bn2 with threshold u=7.0\n",
            "Pruned 0 channel(s) at layer=layer2.0.bn1 with threshold u=7.0\n",
            "Pruned 0 channel(s) at layer=layer2.0.bn2 with threshold u=7.0\n",
            "Pruned 0 channel(s) at layer=layer2.0.shortcut.1 with threshold u=7.0\n",
            "Pruned 0 channel(s) at layer=layer2.1.bn1 with threshold u=7.0\n",
            "Pruned 0 channel(s) at layer=layer2.1.bn2 with threshold u=7.0\n",
            "Pruned 0 channel(s) at layer=layer2.2.bn1 with threshold u=7.0\n",
            "Pruned 0 channel(s) at layer=layer2.2.bn2 with threshold u=7.0\n",
            "Pruned 0 channel(s) at layer=layer3.0.bn1 with threshold u=7.0\n",
            "Pruned 0 channel(s) at layer=layer3.0.bn2 with threshold u=7.0\n",
            "Pruned 0 channel(s) at layer=layer3.0.shortcut.1 with threshold u=7.0\n",
            "Pruned 0 channel(s) at layer=layer3.1.bn1 with threshold u=7.0\n",
            "Pruned 0 channel(s) at layer=layer3.1.bn2 with threshold u=7.0\n",
            "Pruned 0 channel(s) at layer=layer3.2.bn1 with threshold u=7.0\n",
            "Pruned 0 channel(s) at layer=layer3.2.bn2 with threshold u=7.0\n",
            "\n",
            "Threshold=7.0 => Clean Accuracy: 83.89% | ASR = 100.00%\n",
            "\n",
            "Pruned 0 channel(s) at layer=bn1 with threshold u=8.0\n",
            "Pruned 0 channel(s) at layer=layer1.0.bn1 with threshold u=8.0\n",
            "Pruned 0 channel(s) at layer=layer1.0.bn2 with threshold u=8.0\n",
            "Pruned 0 channel(s) at layer=layer1.1.bn1 with threshold u=8.0\n",
            "Pruned 0 channel(s) at layer=layer1.1.bn2 with threshold u=8.0\n",
            "Pruned 0 channel(s) at layer=layer1.2.bn1 with threshold u=8.0\n",
            "Pruned 0 channel(s) at layer=layer1.2.bn2 with threshold u=8.0\n",
            "Pruned 0 channel(s) at layer=layer2.0.bn1 with threshold u=8.0\n",
            "Pruned 0 channel(s) at layer=layer2.0.bn2 with threshold u=8.0\n",
            "Pruned 0 channel(s) at layer=layer2.0.shortcut.1 with threshold u=8.0\n",
            "Pruned 0 channel(s) at layer=layer2.1.bn1 with threshold u=8.0\n",
            "Pruned 0 channel(s) at layer=layer2.1.bn2 with threshold u=8.0\n",
            "Pruned 0 channel(s) at layer=layer2.2.bn1 with threshold u=8.0\n",
            "Pruned 0 channel(s) at layer=layer2.2.bn2 with threshold u=8.0\n",
            "Pruned 0 channel(s) at layer=layer3.0.bn1 with threshold u=8.0\n",
            "Pruned 0 channel(s) at layer=layer3.0.bn2 with threshold u=8.0\n",
            "Pruned 0 channel(s) at layer=layer3.0.shortcut.1 with threshold u=8.0\n",
            "Pruned 0 channel(s) at layer=layer3.1.bn1 with threshold u=8.0\n",
            "Pruned 0 channel(s) at layer=layer3.1.bn2 with threshold u=8.0\n",
            "Pruned 0 channel(s) at layer=layer3.2.bn1 with threshold u=8.0\n",
            "Pruned 0 channel(s) at layer=layer3.2.bn2 with threshold u=8.0\n",
            "\n",
            "Threshold=8.0 => Clean Accuracy: 84.66% | ASR = 100.00%\n",
            "\n",
            "Pruned 0 channel(s) at layer=bn1 with threshold u=9.0\n",
            "Pruned 0 channel(s) at layer=layer1.0.bn1 with threshold u=9.0\n",
            "Pruned 0 channel(s) at layer=layer1.0.bn2 with threshold u=9.0\n",
            "Pruned 0 channel(s) at layer=layer1.1.bn1 with threshold u=9.0\n",
            "Pruned 0 channel(s) at layer=layer1.1.bn2 with threshold u=9.0\n",
            "Pruned 0 channel(s) at layer=layer1.2.bn1 with threshold u=9.0\n",
            "Pruned 0 channel(s) at layer=layer1.2.bn2 with threshold u=9.0\n",
            "Pruned 0 channel(s) at layer=layer2.0.bn1 with threshold u=9.0\n",
            "Pruned 0 channel(s) at layer=layer2.0.bn2 with threshold u=9.0\n",
            "Pruned 0 channel(s) at layer=layer2.0.shortcut.1 with threshold u=9.0\n",
            "Pruned 0 channel(s) at layer=layer2.1.bn1 with threshold u=9.0\n",
            "Pruned 0 channel(s) at layer=layer2.1.bn2 with threshold u=9.0\n",
            "Pruned 0 channel(s) at layer=layer2.2.bn1 with threshold u=9.0\n",
            "Pruned 0 channel(s) at layer=layer2.2.bn2 with threshold u=9.0\n",
            "Pruned 0 channel(s) at layer=layer3.0.bn1 with threshold u=9.0\n",
            "Pruned 0 channel(s) at layer=layer3.0.bn2 with threshold u=9.0\n",
            "Pruned 0 channel(s) at layer=layer3.0.shortcut.1 with threshold u=9.0\n",
            "Pruned 0 channel(s) at layer=layer3.1.bn1 with threshold u=9.0\n",
            "Pruned 0 channel(s) at layer=layer3.1.bn2 with threshold u=9.0\n",
            "Pruned 0 channel(s) at layer=layer3.2.bn1 with threshold u=9.0\n",
            "Pruned 0 channel(s) at layer=layer3.2.bn2 with threshold u=9.0\n",
            "\n",
            "Threshold=9.0 => Clean Accuracy: 84.33% | ASR = 100.00%\n",
            "\n"
          ]
        }
      ]
    },
    {
      "cell_type": "code",
      "source": [
        "print(\"=== Pruning Results ===\")\n",
        "for (th, acc, asr) in results:\n",
        "    print(f\"Threshold {th} | Clean Acc={acc:.2f}% | Attack Success Rate={asr:.2f}%\")"
      ],
      "metadata": {
        "colab": {
          "base_uri": "https://localhost:8080/"
        },
        "id": "veDU6X3tM-km",
        "outputId": "0fc14295-1161-4103-a987-4a265cf1bccb"
      },
      "execution_count": null,
      "outputs": [
        {
          "output_type": "stream",
          "name": "stdout",
          "text": [
            "=== Pruning Results ===\n",
            "Threshold 1.0 | Clean Acc=13.23% | Attack Success Rate=0.00%\n",
            "Threshold 2.0 | Clean Acc=67.70% | Attack Success Rate=5.07%\n",
            "Threshold 3.0 | Clean Acc=74.75% | Attack Success Rate=18.83%\n",
            "Threshold 4.0 | Clean Acc=83.80% | Attack Success Rate=31.87%\n",
            "Threshold 5.0 | Clean Acc=83.79% | Attack Success Rate=32.33%\n",
            "Threshold 6.0 | Clean Acc=84.16% | Attack Success Rate=100.00%\n",
            "Threshold 7.0 | Clean Acc=83.93% | Attack Success Rate=99.99%\n",
            "Threshold 8.0 | Clean Acc=83.76% | Attack Success Rate=100.00%\n",
            "Threshold 9.0 | Clean Acc=84.22% | Attack Success Rate=100.00%\n"
          ]
        }
      ]
    },
    {
      "cell_type": "code",
      "source": [
        "import pandas as pd\n",
        "from tabulate import tabulate\n",
        "\n",
        "# Create the DataFrame\n",
        "df = pd.DataFrame(results, columns=[\"Threshold\", \"Clean Accuracy (%)\", \"Attack Success Rate (%)\"])\n",
        "df = df.round(2).astype(str)\n",
        "df.style.set_table_styles([\n",
        "    {'selector': 'th', 'props': [('text-align', 'center')]},\n",
        "    {'selector': 'td', 'props': [('text-align', 'center')]}\n",
        "]).hide(axis='index').set_caption(\"<b>Pruning Results (CLP on Backdoored Model)</b>\")\n"
      ],
      "metadata": {
        "colab": {
          "base_uri": "https://localhost:8080/",
          "height": 349
        },
        "id": "DnV4eUfjLhnj",
        "outputId": "09f323be-9710-43af-add1-764221623f09"
      },
      "execution_count": null,
      "outputs": [
        {
          "output_type": "execute_result",
          "data": {
            "text/plain": [
              "<pandas.io.formats.style.Styler at 0x7de4b5105510>"
            ],
            "text/html": [
              "<style type=\"text/css\">\n",
              "#T_13aa3 th {\n",
              "  text-align: center;\n",
              "}\n",
              "#T_13aa3 td {\n",
              "  text-align: center;\n",
              "}\n",
              "</style>\n",
              "<table id=\"T_13aa3\" class=\"dataframe\">\n",
              "  <caption><b>Pruning Results (CLP on Backdoored Model)</b></caption>\n",
              "  <thead>\n",
              "    <tr>\n",
              "      <th id=\"T_13aa3_level0_col0\" class=\"col_heading level0 col0\" >Threshold</th>\n",
              "      <th id=\"T_13aa3_level0_col1\" class=\"col_heading level0 col1\" >Clean Accuracy (%)</th>\n",
              "      <th id=\"T_13aa3_level0_col2\" class=\"col_heading level0 col2\" >Attack Success Rate (%)</th>\n",
              "    </tr>\n",
              "  </thead>\n",
              "  <tbody>\n",
              "    <tr>\n",
              "      <td id=\"T_13aa3_row0_col0\" class=\"data row0 col0\" >1.0</td>\n",
              "      <td id=\"T_13aa3_row0_col1\" class=\"data row0 col1\" >13.32</td>\n",
              "      <td id=\"T_13aa3_row0_col2\" class=\"data row0 col2\" >0.0</td>\n",
              "    </tr>\n",
              "    <tr>\n",
              "      <td id=\"T_13aa3_row1_col0\" class=\"data row1 col0\" >2.0</td>\n",
              "      <td id=\"T_13aa3_row1_col1\" class=\"data row1 col1\" >67.74</td>\n",
              "      <td id=\"T_13aa3_row1_col2\" class=\"data row1 col2\" >5.22</td>\n",
              "    </tr>\n",
              "    <tr>\n",
              "      <td id=\"T_13aa3_row2_col0\" class=\"data row2 col0\" >3.0</td>\n",
              "      <td id=\"T_13aa3_row2_col1\" class=\"data row2 col1\" >75.18</td>\n",
              "      <td id=\"T_13aa3_row2_col2\" class=\"data row2 col2\" >18.75</td>\n",
              "    </tr>\n",
              "    <tr>\n",
              "      <td id=\"T_13aa3_row3_col0\" class=\"data row3 col0\" >4.0</td>\n",
              "      <td id=\"T_13aa3_row3_col1\" class=\"data row3 col1\" >84.37</td>\n",
              "      <td id=\"T_13aa3_row3_col2\" class=\"data row3 col2\" >32.39</td>\n",
              "    </tr>\n",
              "    <tr>\n",
              "      <td id=\"T_13aa3_row4_col0\" class=\"data row4 col0\" >5.0</td>\n",
              "      <td id=\"T_13aa3_row4_col1\" class=\"data row4 col1\" >83.79</td>\n",
              "      <td id=\"T_13aa3_row4_col2\" class=\"data row4 col2\" >32.3</td>\n",
              "    </tr>\n",
              "    <tr>\n",
              "      <td id=\"T_13aa3_row5_col0\" class=\"data row5 col0\" >6.0</td>\n",
              "      <td id=\"T_13aa3_row5_col1\" class=\"data row5 col1\" >84.51</td>\n",
              "      <td id=\"T_13aa3_row5_col2\" class=\"data row5 col2\" >100.0</td>\n",
              "    </tr>\n",
              "    <tr>\n",
              "      <td id=\"T_13aa3_row6_col0\" class=\"data row6 col0\" >7.0</td>\n",
              "      <td id=\"T_13aa3_row6_col1\" class=\"data row6 col1\" >83.89</td>\n",
              "      <td id=\"T_13aa3_row6_col2\" class=\"data row6 col2\" >100.0</td>\n",
              "    </tr>\n",
              "    <tr>\n",
              "      <td id=\"T_13aa3_row7_col0\" class=\"data row7 col0\" >8.0</td>\n",
              "      <td id=\"T_13aa3_row7_col1\" class=\"data row7 col1\" >84.66</td>\n",
              "      <td id=\"T_13aa3_row7_col2\" class=\"data row7 col2\" >100.0</td>\n",
              "    </tr>\n",
              "    <tr>\n",
              "      <td id=\"T_13aa3_row8_col0\" class=\"data row8 col0\" >9.0</td>\n",
              "      <td id=\"T_13aa3_row8_col1\" class=\"data row8 col1\" >84.33</td>\n",
              "      <td id=\"T_13aa3_row8_col2\" class=\"data row8 col2\" >100.0</td>\n",
              "    </tr>\n",
              "  </tbody>\n",
              "</table>\n"
            ]
          },
          "metadata": {},
          "execution_count": 20
        }
      ]
    },
    {
      "cell_type": "markdown",
      "source": [
        "## **Evaluating the Defense on Clean Model**"
      ],
      "metadata": {
        "id": "fAmh8hH2ZaGO"
      }
    },
    {
      "cell_type": "code",
      "source": [
        "model_path = \"/content/drive/My Drive/Colab Notebooks/CS 680A: AI Security/Models/attack_baseline.pth\"\n",
        "\n",
        "t = 3.0\n",
        "\n",
        "net = ResNet20_().to(device)\n",
        "net.load_state_dict(torch.load(model_path, map_location=device))\n",
        "\n",
        "new_net = ResNet20_().to(device)\n",
        "new_net = CLP(net, t)\n",
        "\n",
        "\n",
        "torch.save(new_net.state_dict(), f'/content/drive/My Drive/Colab Notebooks/CS 680A: AI Security/Models/CLP_on_Clean_Model_with_{t}_threshold.pth')\n",
        "\n",
        "# Evaluating how it performs now (clean accuracy)\n",
        "clean_acc = evaluate_clean_accuracy(new_net, testloader)\n",
        "print(\"=== Pruning Results ===\")\n",
        "print(f\"Threshold {t} | Clean Acc={clean_acc:.2f}%\")"
      ],
      "metadata": {
        "colab": {
          "base_uri": "https://localhost:8080/"
        },
        "id": "A1HoQKcoNizn",
        "outputId": "0ad41bc8-2b50-46e3-b421-369fc4c2474a"
      },
      "execution_count": null,
      "outputs": [
        {
          "output_type": "stream",
          "name": "stdout",
          "text": [
            "Pruned 0 channel(s) at layer=bn1 with threshold u=3.0\n",
            "Pruned 0 channel(s) at layer=layer1.0.bn1 with threshold u=3.0\n",
            "Pruned 0 channel(s) at layer=layer1.0.bn2 with threshold u=3.0\n",
            "Pruned 0 channel(s) at layer=layer1.1.bn1 with threshold u=3.0\n",
            "Pruned 0 channel(s) at layer=layer1.1.bn2 with threshold u=3.0\n",
            "Pruned 0 channel(s) at layer=layer1.2.bn1 with threshold u=3.0\n",
            "Pruned 0 channel(s) at layer=layer1.2.bn2 with threshold u=3.0\n",
            "Pruned 0 channel(s) at layer=layer2.0.bn1 with threshold u=3.0\n",
            "Pruned 1 channel(s) at layer=layer2.0.bn2 with threshold u=3.0\n",
            "Pruned 0 channel(s) at layer=layer2.0.shortcut.1 with threshold u=3.0\n",
            "Pruned 0 channel(s) at layer=layer2.1.bn1 with threshold u=3.0\n",
            "Pruned 0 channel(s) at layer=layer2.1.bn2 with threshold u=3.0\n",
            "Pruned 0 channel(s) at layer=layer2.2.bn1 with threshold u=3.0\n",
            "Pruned 0 channel(s) at layer=layer2.2.bn2 with threshold u=3.0\n",
            "Pruned 0 channel(s) at layer=layer3.0.bn1 with threshold u=3.0\n",
            "Pruned 0 channel(s) at layer=layer3.0.bn2 with threshold u=3.0\n",
            "Pruned 0 channel(s) at layer=layer3.0.shortcut.1 with threshold u=3.0\n",
            "Pruned 0 channel(s) at layer=layer3.1.bn1 with threshold u=3.0\n",
            "Pruned 0 channel(s) at layer=layer3.1.bn2 with threshold u=3.0\n",
            "Pruned 0 channel(s) at layer=layer3.2.bn1 with threshold u=3.0\n",
            "Pruned 0 channel(s) at layer=layer3.2.bn2 with threshold u=3.0\n",
            "=== Pruning Results ===\n",
            "Threshold 3.0 | Clean Acc=89.92%\n"
          ]
        }
      ]
    },
    {
      "cell_type": "code",
      "source": [
        "clean_acc = evaluate_clean_accuracy(net, testloader)\n",
        "print(f\"Clean Acc={clean_acc:.2f}%\")"
      ],
      "metadata": {
        "colab": {
          "base_uri": "https://localhost:8080/"
        },
        "id": "tmOvsQkuVkKE",
        "outputId": "952ae78f-9ada-4df2-e9a8-e31b58b42cba"
      },
      "execution_count": null,
      "outputs": [
        {
          "output_type": "stream",
          "name": "stdout",
          "text": [
            "Clean Acc=89.68%\n"
          ]
        }
      ]
    }
  ]
}